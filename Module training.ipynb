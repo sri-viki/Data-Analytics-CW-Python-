{
  "nbformat": 4,
  "nbformat_minor": 0,
  "metadata": {
    "colab": {
      "name": "New coursework.ipynb",
      "provenance": []
    },
    "kernelspec": {
      "name": "python3",
      "display_name": "Python 3"
    }
  },
  "cells": [
    {
      "cell_type": "markdown",
      "metadata": {
        "id": "K_po4w_2C2Fo"
      },
      "source": [
        "# Module training and score calculations\n",
        "\n"
      ]
    },
    {
      "cell_type": "code",
      "metadata": {
        "id": "Zay1_4VACy4P"
      },
      "source": [
        "#Importing the necessary Libraries\n",
        "import pandas as pd\n",
        "import numpy as np\n",
        "import seaborn as sns\n",
        "from matplotlib import pyplot as plt\n",
        "%matplotlib inline"
      ],
      "execution_count": null,
      "outputs": []
    },
    {
      "cell_type": "markdown",
      "metadata": {
        "id": "oRRmoTuuRerh"
      },
      "source": [
        "###Importing the dataset"
      ]
    },
    {
      "cell_type": "code",
      "metadata": {
        "id": "qM9aZSJAVOPc"
      },
      "source": [
        "data = pd.read_csv('Last.csv')\n",
        "data.head()"
      ],
      "execution_count": null,
      "outputs": []
    },
    {
      "cell_type": "markdown",
      "metadata": {
        "id": "nMfcb8j1DdM-"
      },
      "source": [
        "#Extracting Hour Day And Month from DATE TIME column"
      ]
    },
    {
      "cell_type": "code",
      "metadata": {
        "id": "IJaon9ZvDUWV"
      },
      "source": [
        "data['MONTH'] = pd.DatetimeIndex(data['Date Time']).month\n",
        "data['DAY'] = pd.DatetimeIndex(data['Date Time']).weekday\n",
        "data['HOUR'] = pd.DatetimeIndex(data['Date Time']).hour"
      ],
      "execution_count": null,
      "outputs": []
    },
    {
      "cell_type": "code",
      "metadata": {
        "id": "vl7IF-y0VRTi"
      },
      "source": [
        "data.head(1000)"
      ],
      "execution_count": null,
      "outputs": []
    },
    {
      "cell_type": "code",
      "metadata": {
        "id": "1lUoBe5mKVLL"
      },
      "source": [
        "data.describe()"
      ],
      "execution_count": null,
      "outputs": []
    },
    {
      "cell_type": "markdown",
      "metadata": {
        "id": "YFD-Mgddj4l2"
      },
      "source": [
        "#solving the null values"
      ]
    },
    {
      "cell_type": "code",
      "metadata": {
        "id": "QP3QZq7F-zih"
      },
      "source": [
        "data.isnull().sum()"
      ],
      "execution_count": null,
      "outputs": []
    },
    {
      "cell_type": "code",
      "metadata": {
        "colab": {
          "base_uri": "https://localhost:8080/"
        },
        "id": "zzoE5KJ6BqAG",
        "outputId": "39d12ddb-ab8d-4b82-e6ed-2a243dfb50b5"
      },
      "source": [
        "#shape of the dataset \n",
        "data.shape"
      ],
      "execution_count": null,
      "outputs": [
        {
          "output_type": "execute_result",
          "data": {
            "text/plain": [
              "(8760, 12)"
            ]
          },
          "metadata": {
            "tags": []
          },
          "execution_count": 9
        }
      ]
    },
    {
      "cell_type": "code",
      "metadata": {
        "colab": {
          "base_uri": "https://localhost:8080/"
        },
        "id": "jSdJyR15sPGN",
        "outputId": "60a36211-6ca4-4ce0-f908-60111fd2a11b"
      },
      "source": [
        "#Number of the rows that contain nulls\n",
        "data[data.isnull().any(axis=1)].shape"
      ],
      "execution_count": null,
      "outputs": [
        {
          "output_type": "execute_result",
          "data": {
            "text/plain": [
              "(978, 12)"
            ]
          },
          "metadata": {
            "tags": []
          },
          "execution_count": 10
        }
      ]
    },
    {
      "cell_type": "code",
      "metadata": {
        "colab": {
          "base_uri": "https://localhost:8080/"
        },
        "id": "C_qzT_F1smAM",
        "outputId": "94ec5505-42bf-41de-d19e-7c09dd4b4e55"
      },
      "source": [
        "#Removing the null values\n",
        "data=data.dropna()\n",
        "#Remobing the 'Date Time' column\n",
        "data=data.drop(['Date Time'],axis=1)\n",
        "data.shape"
      ],
      "execution_count": null,
      "outputs": [
        {
          "output_type": "execute_result",
          "data": {
            "text/plain": [
              "(7782, 11)"
            ]
          },
          "metadata": {
            "tags": []
          },
          "execution_count": 6
        }
      ]
    },
    {
      "cell_type": "markdown",
      "metadata": {
        "id": "x3HhALm2k5Dk"
      },
      "source": [
        "#Regression PART"
      ]
    },
    {
      "cell_type": "markdown",
      "metadata": {
        "id": "ket-aOxMImmu"
      },
      "source": [
        "##Specifing Input and Output "
      ]
    },
    {
      "cell_type": "code",
      "metadata": {
        "id": "p7gEv956I1AE"
      },
      "source": [
        "#Specifing Input and Output\n",
        "X = data.drop(['PM10'],axis=1)\n",
        "y = data['PM10']"
      ],
      "execution_count": null,
      "outputs": []
    },
    {
      "cell_type": "code",
      "metadata": {
        "id": "pmxQOgs6hXCo"
      },
      "source": [
        "y=y.astype(float)"
      ],
      "execution_count": null,
      "outputs": []
    },
    {
      "cell_type": "markdown",
      "metadata": {
        "id": "sZOvPT2mFRfm"
      },
      "source": [
        "##Train Test Split"
      ]
    },
    {
      "cell_type": "code",
      "metadata": {
        "id": "gbrvO-mQ1Xdt"
      },
      "source": [
        "#splitting tarin and test values\n",
        "from sklearn.model_selection import train_test_split\n",
        "X_train,X_test,y_train,y_test = train_test_split(X,y, test_size = 0.2, random_state=42)"
      ],
      "execution_count": null,
      "outputs": []
    },
    {
      "cell_type": "markdown",
      "metadata": {
        "id": "BVW68-nj6iLB"
      },
      "source": [
        "##SVR Prediction"
      ]
    },
    {
      "cell_type": "code",
      "metadata": {
        "id": "J7RRvRAX1hB4"
      },
      "source": [
        "# importing SVR from Sklearn library\n",
        "from sklearn.svm import SVR\n",
        "\n",
        "#Creating SVR Object and trianing the model \n",
        "SVRegr = SVR()\n",
        "SVRegr.fit(X_train,y_train)\n",
        "\n",
        "#Calculating Accuracy score\n",
        "Accuracy_score=SVRegr.score(X_test,y_test)*100\n",
        "\n",
        "#Calculating Cross validation\n",
        "score= cross_val_score(SVRegr,X,y,cv=5)\n",
        "Cross_Validtion_Score= np.mean(score)*100"
      ],
      "execution_count": null,
      "outputs": []
    },
    {
      "cell_type": "markdown",
      "metadata": {
        "id": "m4Y9Qwzo6mPA"
      },
      "source": [
        "##Linear Regression Prediction"
      ]
    },
    {
      "cell_type": "code",
      "metadata": {
        "id": "VkusOzFa1jEl"
      },
      "source": [
        "# importing Linear Regression Sklearn library\n",
        "from sklearn.linear_model import LinearRegression\n",
        "\n",
        "#Creating Linear regression Object\n",
        "LRegr = LinearRegression()"
      ],
      "execution_count": null,
      "outputs": []
    },
    {
      "cell_type": "code",
      "metadata": {
        "colab": {
          "base_uri": "https://localhost:8080/"
        },
        "id": "OQgSZe5vSiTO",
        "outputId": "9ddf91f9-4b39-4617-9eeb-19d91de4ae59"
      },
      "source": [
        "#Trianing the model\n",
        "LRegr.fit(X_train,y_train)\n",
        "LRegr.predict(X_test)"
      ],
      "execution_count": null,
      "outputs": [
        {
          "output_type": "execute_result",
          "data": {
            "text/plain": [
              "array([17.42494238, 18.05604058, 20.48045264, ..., 18.17795672,\n",
              "        9.0003084 , 12.03107387])"
            ]
          },
          "metadata": {
            "tags": []
          },
          "execution_count": 10
        }
      ]
    },
    {
      "cell_type": "code",
      "metadata": {
        "colab": {
          "base_uri": "https://localhost:8080/"
        },
        "id": "IBDVEEhZTegk",
        "outputId": "7f63365a-5ec2-4d1d-d163-08dcebf00d69"
      },
      "source": [
        "#Predicting the output based on the test data\n",
        "LRegr.predict(X_test)"
      ],
      "execution_count": null,
      "outputs": [
        {
          "output_type": "execute_result",
          "data": {
            "text/plain": [
              "array([17.42494238, 18.05604058, 20.48045264, ..., 18.17795672,\n",
              "        9.0003084 , 12.03107387])"
            ]
          },
          "metadata": {
            "tags": []
          },
          "execution_count": 18
        }
      ]
    },
    {
      "cell_type": "code",
      "metadata": {
        "id": "UtRJHIz6TDMa"
      },
      "source": [
        "#importing cross valication score model\n",
        "from sklearn.model_selection import cross_val_score\n",
        "\n",
        "#Calculating Accuracy score\n",
        "Accuracy_score=LRegr.score(X_test,y_test)*100\n",
        "\n",
        "#Calculating Cross validation\n",
        "score= cross_val_score(LRegr,X,y,cv=5)\n",
        "Cross_Validtion_Score= np.mean(score)*100"
      ],
      "execution_count": null,
      "outputs": []
    },
    {
      "cell_type": "markdown",
      "metadata": {
        "id": "isMr6B-KEkqO"
      },
      "source": [
        "#Classification PART\n"
      ]
    },
    {
      "cell_type": "markdown",
      "metadata": {
        "id": "jRDTPfPElMDI"
      },
      "source": [
        "##Classifiying the PM10 to bands"
      ]
    },
    {
      "cell_type": "code",
      "metadata": {
        "id": "l56BCxzN8IDi"
      },
      "source": [
        "#Forming the 'Band' column based on the PM10 values\n",
        "data['BAND'] = pd.cut(data['PM10'],[-100,16,33,50,58,66,75,83,91,100,300],\n",
        "                      labels=[1,2,3,4,5,6,7,8,9,10]).astype('int64')"
      ],
      "execution_count": null,
      "outputs": []
    },
    {
      "cell_type": "markdown",
      "metadata": {
        "id": "YVsSztN7lb1w"
      },
      "source": [
        "##Specifing Input and output "
      ]
    },
    {
      "cell_type": "code",
      "metadata": {
        "id": "_wKDHSWpGMqk"
      },
      "source": [
        "#Specifing new Input and Output for Classification models\n",
        "X=data.drop(['PM10','BAND'],axis=1)\n",
        "y=data['BAND']"
      ],
      "execution_count": null,
      "outputs": []
    },
    {
      "cell_type": "markdown",
      "metadata": {
        "id": "6bGcmpGWlJH7"
      },
      "source": [
        "##Train Test Split"
      ]
    },
    {
      "cell_type": "code",
      "metadata": {
        "id": "FT59bXI4KZmM"
      },
      "source": [
        "#splitting tarin and test values\n",
        "from sklearn.model_selection import train_test_split\n",
        "#importing cross valication\n",
        "from sklearn.model_selection import cross_val_score"
      ],
      "execution_count": null,
      "outputs": []
    },
    {
      "cell_type": "code",
      "metadata": {
        "id": "r9CEw29FKj5Z"
      },
      "source": [
        "#splitting tarin and test values\n",
        "x_train,x_test,y_train,y_test = train_test_split(X,y, test_size = 0.2, random_state=42)"
      ],
      "execution_count": null,
      "outputs": []
    },
    {
      "cell_type": "markdown",
      "metadata": {
        "id": "RdJrY5jSkkk1"
      },
      "source": [
        "##SVC"
      ]
    },
    {
      "cell_type": "code",
      "metadata": {
        "id": "c0AaqNqdK5jL"
      },
      "source": [
        "# importing SVC from Sklearn library\n",
        "from sklearn.svm import SVC\n",
        "\n",
        "#Creating SVC Object and trianing the model \n",
        "SVClass = SVC()\n",
        "SVClass.fit(X_train,y_train)\n",
        "\n",
        "#Calculating Accuracy score\n",
        "Accuracy_score=SVClass.score(X_test,y_test)*100\n",
        "\n",
        "#Calculating Cross validation\n",
        "score= cross_val_score(SVClass,X,y,cv=5)\n",
        "Cross_Validtion_Score= np.mean(score)*100"
      ],
      "execution_count": null,
      "outputs": []
    },
    {
      "cell_type": "markdown",
      "metadata": {
        "id": "b7_to1zqksbD"
      },
      "source": [
        "##KNN"
      ]
    },
    {
      "cell_type": "code",
      "metadata": {
        "id": "Ff7Pkd3TMIPv"
      },
      "source": [
        "# importing KNN from Sklearn library\n",
        "from sklearn.neighbors import KNeighborsClassifier\n",
        "\n",
        "#Creating KNN Object and trianing the model \n",
        "knn = KNeighborsClassifier(n_neighbors=5)\n",
        "knn.fit(X_train,y_train)\n",
        "\n",
        "#Calculating Accuracy score\n",
        "Accuracy_score=knn.score(X_test,y_test)*100\n",
        "\n",
        "#Calculating Cross validation\n",
        "score= cross_val_score(knn,X,y,cv=5)\n",
        "Cross_Validtion_Score= np.mean(score)*100"
      ],
      "execution_count": null,
      "outputs": []
    }
  ]
}